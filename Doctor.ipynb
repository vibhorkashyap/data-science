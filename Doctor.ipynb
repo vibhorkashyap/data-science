{
 "cells": [
  {
   "cell_type": "code",
   "execution_count": 21,
   "metadata": {},
   "outputs": [],
   "source": [
    "import random\n",
    "import pandas as pd\n",
    "import numpy as np"
   ]
  },
  {
   "cell_type": "code",
   "execution_count": 2,
   "metadata": {},
   "outputs": [],
   "source": [
    "patient_frequency = [x for x in range(5,12)]"
   ]
  },
  {
   "cell_type": "code",
   "execution_count": 5,
   "metadata": {},
   "outputs": [],
   "source": [
    "months = ((\"jan\",31),(\"feb\",28),(\"mar\",31),\n",
    "          (\"apr\",30),(\"may\",31),(\"jun\",30),\n",
    "          (\"jul\",31),(\"aug\",31),(\"sep\",30),\n",
    "          (\"oct\",31),(\"nov\",30),(\"dec\",31))"
   ]
  },
  {
   "cell_type": "code",
   "execution_count": 6,
   "metadata": {},
   "outputs": [],
   "source": [
    "fees = 750"
   ]
  },
  {
   "cell_type": "code",
   "execution_count": 25,
   "metadata": {},
   "outputs": [],
   "source": [
    "def compute_year():\n",
    "    year = {}\n",
    "    year['month'] = []\n",
    "    year['patients'] = []\n",
    "    year['earnings'] = []\n",
    "    for month in months:\n",
    "        year['month'].append(month[0])\n",
    "        num_patients = random.choice(patient_frequency)\n",
    "        monthly_patients = 0\n",
    "        for i in range(month[1]): \n",
    "            monthly_patients += num_patients\n",
    "        year['patients'].append(monthly_patients)\n",
    "        year['earnings'].append(month[1]*fees*num_patients)\n",
    "    return year"
   ]
  },
  {
   "cell_type": "code",
   "execution_count": 34,
   "metadata": {},
   "outputs": [
    {
     "name": "stdout",
     "output_type": "stream",
     "text": [
      "   month  patients  earnings\n",
      "1    jan       248    186000\n",
      "2    feb       196    147000\n",
      "3    mar       248    186000\n",
      "4    apr       300    225000\n",
      "5    may       217    162750\n",
      "6    jun       240    180000\n",
      "7    jul       155    116250\n",
      "8    aug       310    232500\n",
      "9    sep       210    157500\n",
      "10   oct       341    255750\n",
      "11   nov       150    112500\n",
      "12   dec       155    116250\n",
      "Gross earning : Rs. 2077500\n"
     ]
    }
   ],
   "source": [
    "year = compute_year()\n",
    "df = pd.DataFrame(data=year, index=np.arange(1,13))\n",
    "print(df)\n",
    "print(\"Gross earning : Rs.\" , sum(year['earnings']))"
   ]
  },
  {
   "cell_type": "code",
   "execution_count": 35,
   "metadata": {},
   "outputs": [
    {
     "name": "stdout",
     "output_type": "stream",
     "text": [
      "   month  patients  earnings\n",
      "1    jan       155    116250\n",
      "2    feb       224    168000\n",
      "3    mar       341    255750\n",
      "4    apr       210    157500\n",
      "5    may       186    139500\n",
      "6    jun       180    135000\n",
      "7    jul       279    209250\n",
      "8    aug       279    209250\n",
      "9    sep       270    202500\n",
      "10   oct       279    209250\n",
      "11   nov       180    135000\n",
      "12   dec       310    232500\n",
      "Gross earning : Rs. 2169750\n"
     ]
    }
   ],
   "source": [
    "year = compute_year()\n",
    "df = pd.DataFrame(data=year, index=np.arange(1,13))\n",
    "print(df)\n",
    "print(\"Gross earning : Rs.\" , sum(year['earnings']))"
   ]
  },
  {
   "cell_type": "code",
   "execution_count": 33,
   "metadata": {},
   "outputs": [
    {
     "name": "stdout",
     "output_type": "stream",
     "text": [
      "   month  patients  earnings\n",
      "1    jan       155    116250\n",
      "2    feb       224    168000\n",
      "3    mar       279    209250\n",
      "4    apr       210    157500\n",
      "5    may       341    255750\n",
      "6    jun       180    135000\n",
      "7    jul       186    139500\n",
      "8    aug       186    139500\n",
      "9    sep       210    157500\n",
      "10   oct       279    209250\n",
      "11   nov       180    135000\n",
      "12   dec       248    186000\n",
      "Gross earning : Rs. 2104500\n"
     ]
    }
   ],
   "source": [
    "df = pd.DataFrame(data=compute_year(), index=np.arange(1,13))\n",
    "print(df)\n",
    "print(\"Gross earning : Rs.\" , sum(year['earnings']))"
   ]
  },
  {
   "cell_type": "code",
   "execution_count": 36,
   "metadata": {},
   "outputs": [
    {
     "name": "stdout",
     "output_type": "stream",
     "text": [
      "   month  patients  earnings\n",
      "1    jan       341    255750\n",
      "2    feb       140    105000\n",
      "3    mar       279    209250\n",
      "4    apr       150    112500\n",
      "5    may       217    162750\n",
      "6    jun       300    225000\n",
      "7    jul       217    162750\n",
      "8    aug       186    139500\n",
      "9    sep       150    112500\n",
      "10   oct       186    139500\n",
      "11   nov       180    135000\n",
      "12   dec       248    186000\n",
      "Gross earning : Rs. 1945500\n"
     ]
    }
   ],
   "source": [
    "year = compute_year()\n",
    "df = pd.DataFrame(data=year, index=np.arange(1,13))\n",
    "print(df)\n",
    "print(\"Gross earning : Rs.\" , sum(year['earnings']))"
   ]
  },
  {
   "cell_type": "code",
   "execution_count": null,
   "metadata": {},
   "outputs": [],
   "source": []
  }
 ],
 "metadata": {
  "kernelspec": {
   "display_name": "Python 3",
   "language": "python",
   "name": "python3"
  },
  "language_info": {
   "codemirror_mode": {
    "name": "ipython",
    "version": 3
   },
   "file_extension": ".py",
   "mimetype": "text/x-python",
   "name": "python",
   "nbconvert_exporter": "python",
   "pygments_lexer": "ipython3",
   "version": "3.7.1"
  }
 },
 "nbformat": 4,
 "nbformat_minor": 2
}
